{
  "nbformat": 4,
  "nbformat_minor": 0,
  "metadata": {
    "colab": {
      "name": "Km to Mil",
      "provenance": [],
      "authorship_tag": "ABX9TyPvIpg1aIp26gaeZa/6ShPe",
      "include_colab_link": true
    },
    "kernelspec": {
      "name": "python3",
      "display_name": "Python 3"
    },
    "language_info": {
      "name": "python"
    }
  },
  "cells": [
    {
      "cell_type": "markdown",
      "metadata": {
        "id": "view-in-github",
        "colab_type": "text"
      },
      "source": [
        "<a href=\"https://colab.research.google.com/github/SelenayGurbuz/hu-bby261-2021-proje4/blob/main/Km_to_Mil.ipynb\" target=\"_parent\"><img src=\"https://colab.research.google.com/assets/colab-badge.svg\" alt=\"Open In Colab\"/></a>"
      ]
    },
    {
      "cell_type": "code",
      "execution_count": 7,
      "metadata": {
        "colab": {
          "base_uri": "https://localhost:8080/",
          "height": 539
        },
        "id": "7tLgpDosJIZ8",
        "outputId": "db11f860-94ef-4e15-f1bc-da75cdfdc493"
      },
      "outputs": [
        {
          "output_type": "stream",
          "name": "stdout",
          "text": [
            "sayı giriniz: 100\n",
            "kilometers degeri giriniz: 48\n",
            "4.0 degrees kilometers = 2.49 degrees miles\n",
            "7.0 degrees kilometers = 4.35 degrees miles\n",
            "10.0 degrees kilometers = 6.21 degrees miles\n",
            "12.0 degrees kilometers = 7.46 degrees miles\n",
            "17.0 degrees kilometers = 10.56 degrees miles\n",
            "23.0 degrees kilometers = 14.29 degrees miles\n",
            "28.0 degrees kilometers = 17.4 degrees miles\n",
            "34.0 degrees kilometers = 21.13 degrees miles\n",
            "40.0 degrees kilometers = 24.85 degrees miles\n",
            "48.0 degrees kilometers = 29.83 degrees miles\n",
            "Finished training the model\n",
            "[[29.333055]]\n",
            "29.82576\n"
          ]
        },
        {
          "output_type": "display_data",
          "data": {
            "image/png": "[encoded data removed]",
            "text/plain": [
              "<Figure size 432x288 with 1 Axes>"
            ]
          },
          "metadata": {
            "needs_background": "light"
          }
        }
      ],
      "source": [
        "import tensorflow as tf\n",
        "import numpy as np\n",
        "import logging\n",
        "import matplotlib.pyplot as plt\n",
        "\n",
        "logger = tf.get_logger()\n",
        "logger.setLevel(logging.ERROR)\n",
        "\n",
        "tekrar = int(input (\"sayı giriniz: \"))\n",
        "cevir = int(input(\"kilometers degeri giriniz: \"))\n",
        "sonuc = cevir*0.62137\n",
        "\n",
        "kilometers = np.array([4, 7, 10, 12, 17, 23, 28, 34, 40, 48],  dtype=float)\n",
        "miles = np.array([2.49, 4.35, 6.21, 7.46, 10.56, 14.29, 17.40, 21.13, 24.85, 29.83],  dtype=float)\n",
        "\n",
        "for i,c in enumerate(kilometers):\n",
        "  print(\"{} degrees kilometers = {} degrees miles\".format(c, miles[i]))\n",
        "\n",
        "l0 = tf.keras.layers.Dense(units=1, input_shape=[1])\n",
        "\n",
        "model = tf.keras.Sequential([l0])\n",
        "model.compile(loss='mean_squared_error',\n",
        "              optimizer=tf.keras.optimizers.Adam(0.1))\n",
        "\n",
        "history = model.fit(kilometers, miles, epochs=tekrar, verbose=False)\n",
        "\n",
        "print(\"Finished training the model\")\n",
        "\n",
        "plt.xlabel('Epoch Number')\n",
        "plt.ylabel(\"Loss Magnitude\")\n",
        "plt.plot(history.history['loss'])\n",
        "\n",
        "print(model.predict([cevir]))\n",
        "print(sonuc)\n"
      ]
    }
  ]
}